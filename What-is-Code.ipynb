{
 "cells": [
  {
   "cell_type": "markdown",
   "metadata": {},
   "source": [
    "# What is Code?\n",
    "\n",
    "## *A coding conversation with Steve Rogers*\n",
    "\n",
    "## Blanco Public Library \n",
    "\n",
    "## 28 Jun 2016"
   ]
  },
  {
   "cell_type": "markdown",
   "metadata": {},
   "source": [
    "## Google Definition of Code\n",
    "\n",
    "### noun\n",
    "\n",
    "1. a system of words, letters, figures, or other symbols substituted for other words, letters, etc., especially for the purposes of secrecy.\n",
    "\n",
    "2. Computing: program instructions.\n",
    "    \"hundreds of lines of code\"\n",
    "    \n",
    "3. a systematic collection of laws or regulations e.g.\n",
    "    \"the criminal code\"\n",
    "    \n",
    "4. a set of conventions governing behavior or activity in a particular sphere; e.g.\n",
    "    \"a stern code of honor\"\n",
    "\n",
    "\n",
    "### verb\n",
    "\n",
    "1. convert (the words of a message) into a particular code in order to convey a secret meaning, e.g.\n",
    "    \"only Mitch knew how to read the message—even the name was coded\"\n",
    "     \n",
    "2. write code for (a computer program).\n",
    "    \"most developers code C++ like C\"\n",
    "    "
   ]
  },
  {
   "cell_type": "markdown",
   "metadata": {},
   "source": [
    "## What are computers and why do they need code?\n",
    "\n",
    "- Computers are machines that compute/control things for us.\n",
    "\n",
    "  - Analog, Digital, Quantum\n",
    "  \n",
    "  - Electronic, Mechanical, Hydraulic, Chemical, Biological\n",
    "  \n",
    "  - Programable, or Not\n",
    "  \n"
   ]
  },
  {
   "cell_type": "markdown",
   "metadata": {},
   "source": [
    "## Are these computers?\n",
    "<table> \n",
    "<tr><td><img src=\"img/Wooden_hourglass_3.jpg\" width=\"40%\"/></td> <td><img src=\"img/Greenwich_clock.jpg\" width=\"30%\"/></td>\n",
    "<td><img src=\"img/Watts_governor_and_throttle_valve_.jpg\" width=\"100%\"/> </td>\n",
    "</td></tr>\n",
    "</table>\n",
    "\n",
    "* no, but ..."
   ]
  },
  {
   "cell_type": "markdown",
   "metadata": {},
   "source": [
    "## Clocks with Extras -> Computers \n",
    "\n",
    "- Arithmetic and Logic\n",
    "\n",
    "- Memory\n",
    "  - Transient\n",
    "  - Persistent\n",
    "\n",
    "- Input Devices\n",
    "\n",
    "- Output Devices\n",
    "\n",
    "- Stored Program Digital Computers\n"
   ]
  },
  {
   "cell_type": "markdown",
   "metadata": {},
   "source": [
    "## Turing Machine\n",
    "\n",
    "- Invented by Alan Turing in 1936.\n",
    "\n",
    "<img src=\"img/turingFull560.jpg\" />\n",
    "\n",
    "- Abstract computer that can simulate any computer algorithm"
   ]
  },
  {
   "cell_type": "markdown",
   "metadata": {},
   "source": [
    "## Some Low Level Codes\n",
    "\n",
    "<table>\n",
    "<tr><th>Type</th> <th>Alphabet</th> <th>Size</th></tr>\n",
    "<tr><td>Morse Code</td> <td>  . - </td> <td>2</td></tr>\n",
    "<tr><td>Binary Code </td> <td> 0 1</td> <td>2</td></tr>\n",
    "<tr><td>Genetic Code </td> <td> C G A T </td> <td>4</td></tr> \n",
    "<tr><td>Hexadecimal Code</td> <td>0 1 2 3 4 5 6 7 8 9 A B C D E F</td> <td>16</td></tr>\n",
    "<tr><td>ASCII Code</td> <td>0...9, a..z, A...Z, ...</td> <td>256</td></tr>\n",
    "</table>\n",
    "\n",
    "But we want to code at a higher level than binary or hex, so ..."
   ]
  },
  {
   "cell_type": "markdown",
   "metadata": {},
   "source": [
    "## Computer Languages\n",
    "\n",
    "- Over 2300 Computer Languages\n",
    "- Why so many?\n",
    "  - Different Strengths\n",
    "  - Different Domains\n",
    "  - Different Hardware\n",
    "  - Different Users\n",
    "- [Mother Tongues Chart](img/ComputerLanguagesChart.png)\n",
    "- [TIOBE Index](http://www.tiobe.com/tiobe_index)"
   ]
  },
  {
   "cell_type": "markdown",
   "metadata": {},
   "source": [
    "## Code Flight\n",
    "\n",
    "- Assembly language\n",
    "\n",
    "- Fortran\n",
    "\n",
    "- Cobol\n",
    "\n",
    "- Lisp\n",
    "\n",
    "- C\n",
    "\n",
    "- APL\n",
    "\n",
    "- Java\n",
    "\n",
    "- Javascript\n",
    "\n",
    "- Python\n",
    "\n",
    "What does code to print \"Hello World!\" look like in these languages.\n"
   ]
  },
  {
   "cell_type": "markdown",
   "metadata": {},
   "source": [
    "## Hello World in Assembly Language\n",
    "\n",
    "```\n",
    "section     .text\n",
    "global      _start                              ;must be declared for linker (ld)\n",
    "\n",
    "_start:                                         ;tell linker entry point\n",
    "\n",
    "    mov     edx,len                             ;message length\n",
    "    mov     ecx,msg                             ;message to write\n",
    "    mov     ebx,1                               ;file descriptor (stdout)\n",
    "    mov     eax,4                               ;system call number (sys_write)\n",
    "    int     0x80                                ;call kernel\n",
    "\n",
    "    mov     eax,1                               ;system call number (sys_exit)\n",
    "    int     0x80                                ;call kernel\n",
    "\n",
    "section     .data\n",
    "\n",
    "msg     db  'Hello, world!',0xa                 ;our dear string\n",
    "len     equ $ - msg                             ;length of our dear string\n",
    "```"
   ]
  },
  {
   "cell_type": "markdown",
   "metadata": {},
   "source": [
    "## Hello World in Fortran\n",
    "```\n",
    " PROGRAM HELLOWORLD\n",
    " 10 FORMAT (1X,11HHELLO WORLD)\n",
    " WRITE(6,10) \n",
    " END\n",
    "```"
   ]
  },
  {
   "cell_type": "markdown",
   "metadata": {},
   "source": [
    "## Hello World in Cobol\n",
    "```\n",
    " IDENTIFICATION DIVISION.\n",
    " PROGRAM-ID. Hello.\n",
    " ENVIRONMENT DIVISION.\n",
    " DATA DIVISION.\n",
    " PROCEDURE DIVISION.\n",
    "\tDisplay 'Hello, World'.\n",
    "\tSTOP RUN.\n",
    "```"
   ]
  },
  {
   "cell_type": "markdown",
   "metadata": {},
   "source": [
    "## Hello World in Lisp\n",
    "```\n",
    "\t(DEFUN HELLO-WORLD ()\n",
    "\t(PRINT (LIST 'HELLO 'WORLD)))\n",
    "\n",
    "```"
   ]
  },
  {
   "cell_type": "markdown",
   "metadata": {},
   "source": [
    "## Hello Word in C\n",
    "```\n",
    " #include <stdio.h>\n",
    " #include <stdlib.h>\n",
    "\n",
    "\n",
    " int main(void)\n",
    " {\n",
    "  printf(\"Hello, world\\n\");\n",
    "  return EXIT_SUCCESS;\n",
    " }\n",
    "```"
   ]
  },
  {
   "cell_type": "markdown",
   "metadata": {},
   "source": [
    "## Hello World in APL\n",
    "```\n",
    "'Hello World'\n",
    "```"
   ]
  },
  {
   "cell_type": "markdown",
   "metadata": {},
   "source": [
    "## Hello World in Java\n",
    "```\n",
    " public class Hello {\n",
    "  \tpublic static void main(String []args) {\n",
    " \t\tSystem.out.println(\"Hello World\");\n",
    "  \t}\n",
    " }\n",
    "```"
   ]
  },
  {
   "cell_type": "markdown",
   "metadata": {},
   "source": [
    "## Hello World in Javascript\n",
    "```\n",
    "  document.writeln(\"Hello, World\");\n",
    "```"
   ]
  },
  {
   "cell_type": "markdown",
   "metadata": {},
   "source": [
    "## Hello World in Python\n",
    "```\n",
    " print \"Hello World\"\n",
    "```"
   ]
  },
  {
   "cell_type": "markdown",
   "metadata": {},
   "source": [
    "## A Larger Example \n",
    "### Project Euler Problem 1\n",
    "\n",
    ">If we list all the natural numbers below 10 that are multiples of 3 or 5, we get 3, 5, 6 and 9. The sum of these multiples is 23.\n",
    ">\n",
    ">Find the sum of all the multiples of 3 or 5 below 1000.\n",
    "- Solutions in\n",
    "  - Java\n",
    "  - Python\n",
    "  - J"
   ]
  },
  {
   "cell_type": "markdown",
   "metadata": {},
   "source": [
    "## Java Solution\n",
    "```\n",
    "/* \n",
    " * Solution to Project Euler problem 1\n",
    " * by Project Nayuki\n",
    " * \n",
    " * https://www.nayuki.io/page/project-euler-solutions\n",
    " * https://github.com/nayuki/Project-Euler-solutions\n",
    " */\n",
    "\n",
    "\n",
    "public final class p001 implements EulerSolution {\n",
    "\t\n",
    "\tpublic static void main(String[] args) {\n",
    "\t\tSystem.out.println(new p001().run());\n",
    "\t}\n",
    "\t\n",
    "\t\n",
    "\t/* \n",
    "\t * Computers are fast, so we can implement this solution directly without any clever math.\n",
    "\t * A conservative upper bound for the sum is 1000 * 1000, which fits in a Java int type.\n",
    "\t */\n",
    "\tpublic String run() {\n",
    "\t\tint sum = 0;\n",
    "\t\tfor (int i = 0; i < 1000; i++) {\n",
    "\t\t\tif (i % 3 == 0 || i % 5 == 0)\n",
    "\t\t\t\tsum += i;\n",
    "\t\t}\n",
    "\t\treturn Integer.toString(sum);\n",
    "\t}\n",
    "\t\n",
    "}\n",
    "```"
   ]
  },
  {
   "cell_type": "markdown",
   "metadata": {},
   "source": [
    "## Python Solution\n",
    "```\n",
    "# \n",
    "# Solution to Project Euler problem 1\n",
    "# by Project Nayuki\n",
    "# \n",
    "# https://www.nayuki.io/page/project-euler-solutions\n",
    "# https://github.com/nayuki/Project-Euler-solutions\n",
    "# \n",
    "\n",
    "\n",
    "# Computers are fast, so we can implement this solution directly without any clever math.\n",
    "def compute():\n",
    "\tans = sum(x for x in range(1000) if (x % 3 == 0 or x % 5 == 0))\n",
    "\treturn str(ans)\n",
    "\n",
    "\n",
    "if __name__ == \"__main__\":\n",
    "\tprint(compute())\n",
    "```"
   ]
  },
  {
   "cell_type": "markdown",
   "metadata": {},
   "source": [
    "## J Solution\n",
    "```\n",
    "NB. Solution to Project Euler Problem 1\n",
    "NB. by Håkan Kjellerstrand\n",
    "NB. http://www.hakank.org/j/\n",
    " +/I.+./0=3 5|/i.1000 \n",
    "```"
   ]
  },
  {
   "cell_type": "markdown",
   "metadata": {},
   "source": [
    "## What is a Coder?\n",
    "\n",
    "- Someone who writes code\n",
    "\n",
    "- You'll also hear:\n",
    "  - Computer Programmer\n",
    "  - Software Hacker\n",
    "  - Software Developer\n",
    "  - Software Designer\n",
    "  - Software Engineer\n",
    "  - Software Architect\n",
    "\n",
    "- but ..."
   ]
  },
  {
   "cell_type": "markdown",
   "metadata": {},
   "source": [
    "## There's more to Being a Coder\n",
    "\n",
    "1. Understand the problem.\n",
    "2. Research the problem and possible solutions.\n",
    "3. Formulate a solution.\n",
    "4. Write code to implement the solution (or part of it).\n",
    "5. Test your code.\n",
    "6. Debug the code and correct any issues.\n",
    "7. Repeat 1 - 6 until your code correctly solves the problem.\n",
    "8. If your code is ugly, make it beautiful.\n",
    "9. If necessary, optimize your code for improved performance."
   ]
  },
  {
   "cell_type": "markdown",
   "metadata": {},
   "source": [
    "## Should you learn to code?\n",
    "\n",
    "- It depends..."
   ]
  },
  {
   "cell_type": "code",
   "execution_count": 1,
   "metadata": {
    "collapsed": false
   },
   "outputs": [
    {
     "name": "stdout",
     "output_type": "stream",
     "text": [
      "233168\n"
     ]
    }
   ],
   "source": [
    "def compute():\n",
    "    ans = sum(x for x in range(1000) if (x % 3 == 0 or x % 5 == 0))\n",
    "    return str(ans)\n",
    "\n",
    "\n",
    "if __name__ == \"__main__\":\n",
    "    print(compute())"
   ]
  },
  {
   "cell_type": "markdown",
   "metadata": {},
   "source": [
    "## Further Exploration\n",
    "\n",
    "- Bloomberg devoted a full issue to this topic. http://www.bloomberg.com/graphics/2015-paul-ford-what-is-code/\n",
    "\n",
    "- Building a Turing Machine: http://aturingmachine.com/\n",
    "\n",
    "- Dr. Ken Iverson, an IBM Research Fellow and inventor of the APL and J programming languages, explains how mathematical and program notation can be a tool of thought. http://www.jsoftware.com/papers/tot.htm\n",
    "\n",
    "- Hello World in many Languages: http://c2.com/cgi/wiki?HelloWorldInManyProgrammingLanguages\n",
    "\n",
    "- [Hacker News](https://news.ycombinator.com/news) is a site about coding, computers, technology, science, and life.\n"
   ]
  }
 ],
 "metadata": {
  "kernelspec": {
   "display_name": "Python 2",
   "language": "python",
   "name": "python2"
  },
  "language_info": {
   "codemirror_mode": {
    "name": "ipython",
    "version": 2
   },
   "file_extension": ".py",
   "mimetype": "text/x-python",
   "name": "python",
   "nbconvert_exporter": "python",
   "pygments_lexer": "ipython2",
   "version": "2.7.11"
  }
 },
 "nbformat": 4,
 "nbformat_minor": 0
}
